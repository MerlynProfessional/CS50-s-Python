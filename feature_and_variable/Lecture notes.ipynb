{
 "cells": [
  {
   "cell_type": "markdown",
   "id": "1b5d91d8",
   "metadata": {},
   "source": [
    "Requirement Tools :\n",
    "- Visual Studio Code\n",
    "- Github"
   ]
  },
  {
   "cell_type": "markdown",
   "id": "173649a9",
   "metadata": {},
   "source": [
    "make new file using terminal :\n",
    "- \"code {FILENAME}.py\""
   ]
  },
  {
   "cell_type": "markdown",
   "id": "57ec16ef",
   "metadata": {},
   "source": [
    "Run python Code in terminal :\n",
    "- \"python {FILENAME}.py\""
   ]
  },
  {
   "cell_type": "markdown",
   "id": "65cf0309",
   "metadata": {},
   "source": [
    "Functions :\n",
    "- \"print\" : to print out everything you want\n",
    "\n",
    "   Argument : an input to a function that somehow influences its behavior."
   ]
  },
  {
   "cell_type": "code",
   "execution_count": 1,
   "id": "cdb1f60f",
   "metadata": {},
   "outputs": [
    {
     "name": "stdout",
     "output_type": "stream",
     "text": [
      "hello world\n"
     ]
    }
   ],
   "source": [
    "print(\"hello world\")"
   ]
  },
  {
   "cell_type": "markdown",
   "id": "0a596d94",
   "metadata": {},
   "source": [
    "Bugs : mistake in a program and they can take so many forms"
   ]
  },
  {
   "cell_type": "code",
   "execution_count": 2,
   "id": "d88c7712",
   "metadata": {},
   "outputs": [
    {
     "ename": "_IncompleteInputError",
     "evalue": "incomplete input (1587230347.py, line 1)",
     "output_type": "error",
     "traceback": [
      "  \u001b[36mCell\u001b[39m\u001b[36m \u001b[39m\u001b[32mIn[2]\u001b[39m\u001b[32m, line 1\u001b[39m\n\u001b[31m    \u001b[39m\u001b[31mprint (\"he\"\u001b[39m\n               ^\n\u001b[31m_IncompleteInputError\u001b[39m\u001b[31m:\u001b[39m incomplete input\n"
     ]
    }
   ],
   "source": [
    "print (\"he\""
   ]
  },
  {
   "cell_type": "markdown",
   "id": "11dbf2d4",
   "metadata": {},
   "source": [
    "How to get input from User :\n",
    "- variable : \"{VARIABLE_NAME}\"\n",
    "- function : \"input()\""
   ]
  },
  {
   "cell_type": "code",
   "execution_count": 8,
   "id": "a8af7dc0",
   "metadata": {},
   "outputs": [
    {
     "name": "stdout",
     "output_type": "stream",
     "text": [
      "What's your name?\n",
      "hello \n"
     ]
    }
   ],
   "source": [
    "print(\"What's your name?\")\n",
    "name = input()\n",
    "print(\"hello\" , name)"
   ]
  },
  {
   "cell_type": "markdown",
   "id": "ae776538",
   "metadata": {},
   "source": [
    "Comments :\n",
    "- \"# This is my comments\""
   ]
  },
  {
   "cell_type": "code",
   "execution_count": null,
   "id": "06da2541",
   "metadata": {},
   "outputs": [
    {
     "name": "stdout",
     "output_type": "stream",
     "text": [
      "What's your name?\n",
      "hello merlyn\n"
     ]
    }
   ],
   "source": [
    "#Print the question to the user\n",
    "print(\"What's your name?\")\n",
    "#Get the input from the user and store it in a variable called name\n",
    "name = input()\n",
    "#Greet the user with their name\n",
    "print(\"hello\" , name)"
   ]
  },
  {
   "cell_type": "code",
   "execution_count": null,
   "id": "c2ea2790",
   "metadata": {},
   "outputs": [
    {
     "name": "stdout",
     "output_type": "stream",
     "text": [
      "What's your name?\n",
      "hello \n"
     ]
    }
   ],
   "source": [
    "#Print : function to display output to the user\n",
    "print(\"What's your name?\")\n",
    "#name : variable to store the input from the user\n",
    "#input() : function to get input from the user\n",
    "name = input()\n",
    "#if you want to print text use quotes \"\"\n",
    "#if not text just use the variable name\n",
    "print(\"hello\" , name)"
   ]
  },
  {
   "cell_type": "code",
   "execution_count": 17,
   "id": "1eaf74e7",
   "metadata": {},
   "outputs": [
    {
     "name": "stdout",
     "output_type": "stream",
     "text": [
      "hello merlyn\n"
     ]
    }
   ],
   "source": [
    "#ask user for their name and store it in a variable name\n",
    "name=input(\"What's your name? \")\n",
    "\n",
    "#greet the user with their name\n",
    "print(\"hello \" + name)"
   ]
  },
  {
   "cell_type": "code",
   "execution_count": 18,
   "id": "48baaf19",
   "metadata": {},
   "outputs": [
    {
     "name": "stdout",
     "output_type": "stream",
     "text": [
      "hello \n",
      "merlyn\n"
     ]
    }
   ],
   "source": [
    "#ask user for their name and store it in a variable name\n",
    "name=input(\"What's your name? \")\n",
    "\n",
    "#greet the user with their name\n",
    "print(\"hello \" )\n",
    "print(name)"
   ]
  },
  {
   "cell_type": "markdown",
   "id": "e147ae45",
   "metadata": {},
   "source": [
    "print (*object, spe=' ',end='\\n', file=sys.stdout, flush=False )\n",
    "\n",
    "- *objects  : take any object\n",
    "- sep=' ' : default value seperator is blank space \n",
    "- end='\\n' : the basic end line will add new line \n",
    "- file=sys.stdout : Where to print (default is the screen).\n",
    "- flush= False : Whether to forcibly flush the output buffer."
   ]
  },
  {
   "cell_type": "code",
   "execution_count": 20,
   "id": "e2f3c874",
   "metadata": {},
   "outputs": [
    {
     "name": "stdout",
     "output_type": "stream",
     "text": [
      "hello merlyn\n"
     ]
    }
   ],
   "source": [
    "#ask user for their name and store it in a variable name\n",
    "name = input(\"What's your name? \")\n",
    "\n",
    "#greet the user with their name and the end parameter to avoid new line\n",
    "print(\"hello \" , end=\"\")\n",
    "\n",
    "# print the user's name \n",
    "print(name)"
   ]
  },
  {
   "cell_type": "code",
   "execution_count": 22,
   "id": "24dd575a",
   "metadata": {},
   "outputs": [
    {
     "name": "stdout",
     "output_type": "stream",
     "text": [
      "hello  merlyn\n"
     ]
    }
   ],
   "source": [
    "#ask user for their name and store it in a variable name\n",
    "name = input(\"What's your name? \")\n",
    "\n",
    "#greet the user with their name and the end seperate by a space\n",
    "print(\"hello \" , name)"
   ]
  },
  {
   "cell_type": "code",
   "execution_count": 24,
   "id": "2514927f",
   "metadata": {},
   "outputs": [
    {
     "name": "stdout",
     "output_type": "stream",
     "text": [
      "hello++++merlyn\n"
     ]
    }
   ],
   "source": [
    "#ask user for their name and store it in a variable name\n",
    "name = input(\"What's your name? \")\n",
    "\n",
    "#greet the user with their name and the end seperare by ++++\n",
    "print(\"hello\" , name, sep='++++')"
   ]
  },
  {
   "cell_type": "code",
   "execution_count": null,
   "id": "ccd894ec",
   "metadata": {},
   "outputs": [],
   "source": []
  }
 ],
 "metadata": {
  "kernelspec": {
   "display_name": "Python 3",
   "language": "python",
   "name": "python3"
  },
  "language_info": {
   "codemirror_mode": {
    "name": "ipython",
    "version": 3
   },
   "file_extension": ".py",
   "mimetype": "text/x-python",
   "name": "python",
   "nbconvert_exporter": "python",
   "pygments_lexer": "ipython3",
   "version": "3.13.7"
  }
 },
 "nbformat": 4,
 "nbformat_minor": 5
}
